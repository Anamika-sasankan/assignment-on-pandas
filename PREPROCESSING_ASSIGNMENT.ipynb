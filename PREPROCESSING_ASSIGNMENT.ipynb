{
  "nbformat": 4,
  "nbformat_minor": 0,
  "metadata": {
    "colab": {
      "provenance": [],
      "authorship_tag": "ABX9TyMNoOSC1526rNH+MiwlzBh2",
      "include_colab_link": true
    },
    "kernelspec": {
      "name": "python3",
      "display_name": "Python 3"
    },
    "language_info": {
      "name": "python"
    }
  },
  "cells": [
    {
      "cell_type": "markdown",
      "metadata": {
        "id": "view-in-github",
        "colab_type": "text"
      },
      "source": [
        "<a href=\"https://colab.research.google.com/github/Anamika-sasankan/assignment-on-pandas/blob/main/PREPROCESSING_ASSIGNMENT.ipynb\" target=\"_parent\"><img src=\"https://colab.research.google.com/assets/colab-badge.svg\" alt=\"Open In Colab\"/></a>"
      ]
    },
    {
      "cell_type": "code",
      "execution_count": 1,
      "metadata": {
        "id": "s2N28iGTuM1K"
      },
      "outputs": [],
      "source": [
        "import pandas as pd\n",
        "import numpy as np\n",
        "import matplotlib.pyplot as plt\n",
        "import seaborn as sns"
      ]
    },
    {
      "cell_type": "code",
      "source": [
        "df=pd.read_csv('/content/titanic_dataset.csv')"
      ],
      "metadata": {
        "id": "MzZAxoA9uZQb"
      },
      "execution_count": 2,
      "outputs": []
    },
    {
      "cell_type": "code",
      "source": [
        "print(df.head())"
      ],
      "metadata": {
        "colab": {
          "base_uri": "https://localhost:8080/"
        },
        "id": "cEaA85XaughE",
        "outputId": "3502f49c-a52f-48b0-8020-03ad676c3eba"
      },
      "execution_count": 3,
      "outputs": [
        {
          "output_type": "stream",
          "name": "stdout",
          "text": [
            "   PassengerId  Survived  Pclass  \\\n",
            "0            1         0       3   \n",
            "1            2         1       1   \n",
            "2            3         1       3   \n",
            "3            4         1       1   \n",
            "4            5         0       3   \n",
            "\n",
            "                                                Name     Sex   Age  SibSp  \\\n",
            "0                            Braund, Mr. Owen Harris    male  22.0      1   \n",
            "1  Cumings, Mrs. John Bradley (Florence Briggs Th...  female  38.0      1   \n",
            "2                             Heikkinen, Miss. Laina  female  26.0      0   \n",
            "3       Futrelle, Mrs. Jacques Heath (Lily May Peel)  female  35.0      1   \n",
            "4                           Allen, Mr. William Henry    male  35.0      0   \n",
            "\n",
            "   Parch            Ticket     Fare Cabin Embarked  \n",
            "0      0         A/5 21171   7.2500   NaN        S  \n",
            "1      0          PC 17599  71.2833   C85        C  \n",
            "2      0  STON/O2. 3101282   7.9250   NaN        S  \n",
            "3      0            113803  53.1000  C123        S  \n",
            "4      0            373450   8.0500   NaN        S  \n"
          ]
        }
      ]
    },
    {
      "cell_type": "code",
      "source": [
        "print(df.columns)"
      ],
      "metadata": {
        "colab": {
          "base_uri": "https://localhost:8080/"
        },
        "id": "VnWgn48QutXu",
        "outputId": "2d0f6ec1-8b72-4702-f0f8-50da5e4f947c"
      },
      "execution_count": 4,
      "outputs": [
        {
          "output_type": "stream",
          "name": "stdout",
          "text": [
            "Index(['PassengerId', 'Survived', 'Pclass', 'Name', 'Sex', 'Age', 'SibSp',\n",
            "       'Parch', 'Ticket', 'Fare', 'Cabin', 'Embarked'],\n",
            "      dtype='object')\n"
          ]
        }
      ]
    },
    {
      "cell_type": "code",
      "source": [
        "df.set_index('PassengerId', inplace=True)\n",
        "print(df.columns)"
      ],
      "metadata": {
        "colab": {
          "base_uri": "https://localhost:8080/"
        },
        "id": "UUFsVxFvu0Oc",
        "outputId": "ab8dba61-db5a-41da-f7fd-afdc7e6918cf"
      },
      "execution_count": 5,
      "outputs": [
        {
          "output_type": "stream",
          "name": "stdout",
          "text": [
            "Index(['Survived', 'Pclass', 'Name', 'Sex', 'Age', 'SibSp', 'Parch', 'Ticket',\n",
            "       'Fare', 'Cabin', 'Embarked'],\n",
            "      dtype='object')\n"
          ]
        }
      ]
    },
    {
      "cell_type": "code",
      "source": [
        "#Check the basic details of the dataset\n",
        "df.info()"
      ],
      "metadata": {
        "colab": {
          "base_uri": "https://localhost:8080/"
        },
        "id": "XkI8wZCCu-h-",
        "outputId": "305aa442-9949-4897-fba6-aea91a48986b"
      },
      "execution_count": 6,
      "outputs": [
        {
          "output_type": "stream",
          "name": "stdout",
          "text": [
            "<class 'pandas.core.frame.DataFrame'>\n",
            "Index: 891 entries, 1 to 891\n",
            "Data columns (total 11 columns):\n",
            " #   Column    Non-Null Count  Dtype  \n",
            "---  ------    --------------  -----  \n",
            " 0   Survived  891 non-null    int64  \n",
            " 1   Pclass    891 non-null    int64  \n",
            " 2   Name      891 non-null    object \n",
            " 3   Sex       891 non-null    object \n",
            " 4   Age       714 non-null    float64\n",
            " 5   SibSp     891 non-null    int64  \n",
            " 6   Parch     891 non-null    int64  \n",
            " 7   Ticket    891 non-null    object \n",
            " 8   Fare      891 non-null    float64\n",
            " 9   Cabin     204 non-null    object \n",
            " 10  Embarked  889 non-null    object \n",
            "dtypes: float64(2), int64(4), object(5)\n",
            "memory usage: 83.5+ KB\n"
          ]
        }
      ]
    },
    {
      "cell_type": "code",
      "source": [
        "# Check for missing values in each column\n",
        "print(df.isnull().sum())"
      ],
      "metadata": {
        "colab": {
          "base_uri": "https://localhost:8080/"
        },
        "id": "hrYW9fUWvHn_",
        "outputId": "64a7de8f-9c12-444f-ad88-1d01da30b659"
      },
      "execution_count": 7,
      "outputs": [
        {
          "output_type": "stream",
          "name": "stdout",
          "text": [
            "Survived      0\n",
            "Pclass        0\n",
            "Name          0\n",
            "Sex           0\n",
            "Age         177\n",
            "SibSp         0\n",
            "Parch         0\n",
            "Ticket        0\n",
            "Fare          0\n",
            "Cabin       687\n",
            "Embarked      2\n",
            "dtype: int64\n"
          ]
        }
      ]
    },
    {
      "cell_type": "code",
      "source": [
        "#Fill in all the missing values present in all the columns in the dataset\n",
        "df.fillna(method='bfill',inplace=True)\n",
        "print(df.isnull().sum())\n"
      ],
      "metadata": {
        "colab": {
          "base_uri": "https://localhost:8080/"
        },
        "id": "8xjEFQHtvUYv",
        "outputId": "6454e8d1-afb3-43c3-b3d9-07946bd956a8"
      },
      "execution_count": 13,
      "outputs": [
        {
          "output_type": "stream",
          "name": "stdout",
          "text": [
            "Survived    0\n",
            "Pclass      0\n",
            "Name        0\n",
            "Sex         0\n",
            "Age         0\n",
            "SibSp       0\n",
            "Parch       0\n",
            "Ticket      0\n",
            "Fare        0\n",
            "Cabin       0\n",
            "Embarked    0\n",
            "dtype: int64\n"
          ]
        },
        {
          "output_type": "stream",
          "name": "stderr",
          "text": [
            "<ipython-input-13-f55ac28460e7>:2: FutureWarning: DataFrame.fillna with 'method' is deprecated and will raise in a future version. Use obj.ffill() or obj.bfill() instead.\n",
            "  df.fillna(method='bfill',inplace=True)\n"
          ]
        }
      ]
    },
    {
      "cell_type": "code",
      "source": [
        "print(df.describe())"
      ],
      "metadata": {
        "colab": {
          "base_uri": "https://localhost:8080/"
        },
        "id": "DcyO-pgNvnYd",
        "outputId": "207e657e-78c7-4676-bbfc-479c0adcc0c5"
      },
      "execution_count": 27,
      "outputs": [
        {
          "output_type": "stream",
          "name": "stdout",
          "text": [
            "         Survived      Pclass        Age       SibSp       Parch        Fare\n",
            "count  891.000000  891.000000  891.00000  891.000000  891.000000  891.000000\n",
            "mean     0.383838    2.308642   29.58156    0.523008    0.381594   32.204208\n",
            "std      0.486592    0.836071   14.55459    1.102743    0.806057   49.693429\n",
            "min      0.000000    1.000000    0.42000    0.000000    0.000000    0.000000\n",
            "25%      0.000000    2.000000   20.00000    0.000000    0.000000    7.910400\n",
            "50%      0.000000    3.000000   28.00000    0.000000    0.000000   14.454200\n",
            "75%      1.000000    3.000000   38.00000    1.000000    0.000000   31.000000\n",
            "max      1.000000    3.000000   80.00000    8.000000    6.000000  512.329200\n"
          ]
        }
      ]
    },
    {
      "cell_type": "code",
      "source": [
        "#Check and handle outliers in at least 3 columns in the dataset\n",
        "def handle_outliers(df, column):\n",
        "  Q1=df(column).quantile(0.25)\n",
        "  Q3=df(column).quantile(0.75)\n",
        "  IQR=Q3-Q1\n",
        "  lower_bound=Q1-1.5*IQR\n",
        "  upper_bound=Q3+1.5*IQR\n",
        "  df=df[(df[column]>=lower_bound)&(df[column]<=upper_bound)]\n",
        "  return df\n",
        "  df=handle_outliers(df,'Age')\n",
        "  df=handle_outliers(df,'Fare')\n",
        "  df=handle_outliers(df,'SibSp')\n",
        "print(df[['Age', 'Fare', 'SibSp']])\n"
      ],
      "metadata": {
        "colab": {
          "base_uri": "https://localhost:8080/"
        },
        "id": "Omcolde5vvUJ",
        "outputId": "1744a567-0242-4ae0-f340-bdcb5c78e5c0"
      },
      "execution_count": 26,
      "outputs": [
        {
          "output_type": "stream",
          "name": "stdout",
          "text": [
            "              Age     Fare  SibSp\n",
            "PassengerId                      \n",
            "1            22.0   7.2500      1\n",
            "2            38.0  71.2833      1\n",
            "3            26.0   7.9250      0\n",
            "4            35.0  53.1000      1\n",
            "5            35.0   8.0500      0\n",
            "...           ...      ...    ...\n",
            "887          27.0  13.0000      0\n",
            "888          19.0  30.0000      0\n",
            "889          19.0  23.4500      1\n",
            "890          26.0  30.0000      0\n",
            "891          32.0   7.7500      0\n",
            "\n",
            "[891 rows x 3 columns]\n"
          ]
        }
      ]
    },
    {
      "cell_type": "code",
      "source": [
        "from sklearn.preprocessing import MinMaxScaler"
      ],
      "metadata": {
        "id": "jSE99Ck11FLl"
      },
      "execution_count": 31,
      "outputs": []
    },
    {
      "cell_type": "code",
      "source": [
        "df=pd.read_csv('/content/titanic_dataset.csv')\n",
        "# Selecting the features (columns) and the target (Survived)\n",
        "X = df.drop(columns=['Survived','Name', 'Ticket', 'Cabin', 'Embarked'])\n",
        "y = df['Survived']\n",
        "\n",
        "# Convert columns to numeric\n",
        "X = X.apply(pd.to_numeric, errors='coerce')\n",
        "\n",
        "# Handle missing values\n",
        "X.fillna(X.median(), inplace=True)\n",
        "\n",
        "# Initialize the MinMaxScaler\n",
        "scaler = MinMaxScaler()\n",
        "\n",
        "# Perform Min-Max scaling on the feature set (X)\n",
        "X_scaled = scaler.fit_transform(X)\n",
        "\n",
        "# Convert the scaled features back to a DataFrame\n",
        "X_scaled_df = pd.DataFrame(X_scaled, columns=X.columns)\n",
        "\n",
        "# Combine the scaled features with the target variable\n",
        "df_scaled = pd.concat([X_scaled_df, y], axis=1)\n",
        "\n",
        "# Display the first few rows of the scaled dataframe\n",
        "print(df_scaled.head())"
      ],
      "metadata": {
        "colab": {
          "base_uri": "https://localhost:8080/"
        },
        "id": "pozLmAUY1hat",
        "outputId": "3b21f634-6db7-4d66-ec69-2ddbb93f47c9"
      },
      "execution_count": 32,
      "outputs": [
        {
          "output_type": "stream",
          "name": "stdout",
          "text": [
            "   PassengerId  Pclass  Sex       Age  SibSp  Parch      Fare  Survived\n",
            "0     0.000000     1.0  NaN  0.271174  0.125    0.0  0.014151         0\n",
            "1     0.001124     0.0  NaN  0.472229  0.125    0.0  0.139136         1\n",
            "2     0.002247     1.0  NaN  0.321438  0.000    0.0  0.015469         1\n",
            "3     0.003371     0.0  NaN  0.434531  0.125    0.0  0.103644         1\n",
            "4     0.004494     1.0  NaN  0.434531  0.000    0.0  0.015713         0\n"
          ]
        },
        {
          "output_type": "stream",
          "name": "stderr",
          "text": [
            "/usr/local/lib/python3.11/dist-packages/sklearn/utils/_array_api.py:769: RuntimeWarning: All-NaN slice encountered\n",
            "  return xp.asarray(numpy.nanmin(X, axis=axis))\n",
            "/usr/local/lib/python3.11/dist-packages/sklearn/utils/_array_api.py:786: RuntimeWarning: All-NaN slice encountered\n",
            "  return xp.asarray(numpy.nanmax(X, axis=axis))\n"
          ]
        }
      ]
    }
  ]
}